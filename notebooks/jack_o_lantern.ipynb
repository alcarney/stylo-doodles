{
 "cells": [
  {
   "cell_type": "code",
   "execution_count": 1,
   "metadata": {},
   "outputs": [],
   "source": [
    "info = {\n",
    "    \"title\": \"Jack-O-Lantern\",\n",
    "    \"author\": \"Alex Carney\",\n",
    "    \"github_username\": \"alcarney\",\n",
    "    \"stylo_version\": \"0.6.0\",\n",
    "    \"dimensions\": (1920, 1080)\n",
    "}"
   ]
  },
  {
   "cell_type": "code",
   "execution_count": 2,
   "metadata": {},
   "outputs": [],
   "source": [
    "from stylo.image import LayeredImage\n",
    "from stylo.shape import Circle, Ellipse, Triangle, Rectangle\n",
    "from stylo.color import FillColor\n",
    "from stylo.domain.transform import translate, rotate\n",
    "\n",
    "from math import pi, sqrt"
   ]
  },
  {
   "cell_type": "code",
   "execution_count": 3,
   "metadata": {},
   "outputs": [],
   "source": [
    "orange = FillColor(\"ffaa00\")\n",
    "darker_orange = FillColor(\"dd9900\")\n",
    "black = FillColor(\"000000\")\n",
    "green = FillColor(\"00dd00\")"
   ]
  },
  {
   "cell_type": "code",
   "execution_count": 4,
   "metadata": {},
   "outputs": [],
   "source": [
    "def make_segment(size=0.8):\n",
    "    return Ellipse(x=0, y=-0.15, a=sqrt(1/2), b=1, r=size, fill=True)"
   ]
  },
  {
   "cell_type": "code",
   "execution_count": 5,
   "metadata": {},
   "outputs": [],
   "source": [
    "middle = make_segment()\n",
    "middle_outline = make_segment(0.825)\n",
    "\n",
    "left = make_segment() >> translate(-0.5, 0)\n",
    "left_outline = make_segment(0.825) >> translate(-0.5, 0)\n",
    "\n",
    "right = make_segment() >> translate(0.5, 0)\n",
    "right_outline = make_segment(0.825) >> translate(0.5, 0)"
   ]
  },
  {
   "cell_type": "code",
   "execution_count": 6,
   "metadata": {},
   "outputs": [],
   "source": [
    "left_eye = Triangle((0,0), (-0.25, -0.1), (-0.25, 0.1)) >> rotate(pi/8) >> translate(-0.35, 0) \n",
    "right_eye = Triangle((0, 0), (0.25, -0.1), (0.25, 0.1)) >> rotate(-pi/8) >> translate(0.35, 0)\n",
    "\n",
    "nose = Triangle((0,0), (-0.15, -0.15), (0.15, -0.15))"
   ]
  },
  {
   "cell_type": "code",
   "execution_count": 7,
   "metadata": {},
   "outputs": [],
   "source": [
    "cutouts = Circle(x=0, y=0.5, r=1, fill=True)\n",
    "cutouts |= Rectangle(-0.3, -0.45, 0.15, 0.2)\n",
    "cutouts |= Rectangle(0.2, -0.475, 0.15, 0.2)\n",
    "cutouts |= Rectangle(-0.05, -0.7, 0.15, 0.2)\n",
    "\n",
    "mouth = Ellipse(x=0, y=-.3, a=sqrt(2), b=1, r=0.4, fill=True) & ~cutouts"
   ]
  },
  {
   "cell_type": "code",
   "execution_count": 8,
   "metadata": {},
   "outputs": [],
   "source": [
    "offset = 0.1\n",
    "stem = Ellipse(x=(0 + offset), y=0.4, a=1, b=sqrt(8), r=0.2, fill=True) \\\n",
    "     & ~Circle(x=(0.25 + offset), y=0.6, r=0.35, fill=True)"
   ]
  },
  {
   "cell_type": "code",
   "execution_count": 9,
   "metadata": {},
   "outputs": [
    {
     "data": {
      "text/plain": [
       "<matplotlib.axes._subplots.AxesSubplot at 0x7fb232780588>"
      ]
     },
     "execution_count": 9,
     "metadata": {},
     "output_type": "execute_result"
    },
    {
     "data": {
      "image/png": "[encoded data removed]",
      "text/plain": [
       "<Figure size 864x864 with 1 Axes>"
      ]
     },
     "metadata": {
      "needs_background": "light"
     },
     "output_type": "display_data"
    }
   ],
   "source": [
    "image = LayeredImage()\n",
    "\n",
    "image.add_layer(stem, green)\n",
    "\n",
    "image.add_layer(left_outline, darker_orange)\n",
    "image.add_layer(right_outline, darker_orange)\n",
    "image.add_layer(left, orange)\n",
    "image.add_layer(right, orange)\n",
    "\n",
    "image.add_layer(middle_outline, darker_orange)\n",
    "image.add_layer(middle, orange)\n",
    "\n",
    "image.add_layer(left_eye, black)\n",
    "image.add_layer(right_eye, black)\n",
    "image.add_layer(nose, black)\n",
    "\n",
    "image.add_layer(mouth, black)\n",
    "\n",
    "image(1920, 1080)"
   ]
  },
  {
   "cell_type": "code",
   "execution_count": null,
   "metadata": {},
   "outputs": [],
   "source": []
  }
 ],
 "metadata": {
  "kernelspec": {
   "display_name": "Python 3",
   "language": "python",
   "name": "python3"
  },
  "language_info": {
   "codemirror_mode": {
    "name": "ipython",
    "version": 3
   },
   "file_extension": ".py",
   "mimetype": "text/x-python",
   "name": "python",
   "nbconvert_exporter": "python",
   "pygments_lexer": "ipython3",
   "version": "3.7.1"
  }
 },
 "nbformat": 4,
 "nbformat_minor": 2
}
