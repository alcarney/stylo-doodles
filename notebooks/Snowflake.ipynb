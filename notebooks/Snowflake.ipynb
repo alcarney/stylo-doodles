{
 "cells": [
  {
   "cell_type": "code",
   "execution_count": null,
   "metadata": {},
   "outputs": [],
   "source": [
    "info = {\n",
    " \"title\": \"Snowflake\",\n",
    " \"author\": \"Alex Carney\",\n",
    " \"github_username\": \"alcarney\",\n",
    " \"stylo_version\": \"0.9.0\",\n",
    " \"dimensions\": (1080, 1080)\n",
    "}"
   ]
  },
  {
   "cell_type": "code",
   "execution_count": 1,
   "metadata": {},
   "outputs": [],
   "source": [
    "import numpy as np\n",
    "from math import pi\n",
    "\n",
    "from stylo.domain.transform import translate, rotate\n",
    "from stylo.color import FillColor\n",
    "from stylo.shape import Shape, Circle, Ellipse, Square, Triangle, Line\n",
    "from stylo.image import LayeredImage"
   ]
  },
  {
   "cell_type": "code",
   "execution_count": 2,
   "metadata": {},
   "outputs": [],
   "source": [
    "black = FillColor(\"ffffff\")"
   ]
  },
  {
   "cell_type": "code",
   "execution_count": 3,
   "metadata": {},
   "outputs": [],
   "source": [
    "def circle(r, ts):\n",
    "    return [(r*np.cos(t*pi + pi/2), r*np.sin(t*pi + pi/2) - 0.1, t*pi) for t in ts]\n",
    "\n",
    "ts = np.linspace(0, 2, 6)"
   ]
  },
  {
   "cell_type": "code",
   "execution_count": 4,
   "metadata": {},
   "outputs": [],
   "source": [
    "class FixedLine(Shape):\n",
    "    \n",
    "    def __init__(self, length=1, angle=0, pt=0.02):\n",
    "        self.length = length\n",
    "        self.angle = angle\n",
    "        self.pt = pt\n",
    "        \n",
    "    def draw(self):\n",
    "        \n",
    "        l1 = Line((0,0), (self.length, 0), pt=self.pt)\n",
    "        \n",
    "        def line(x, y):\n",
    "            \n",
    "            rx = np.cos(self.angle)*x - np.sin(self.angle)*y\n",
    "            ry = np.sin(self.angle)*x + np.cos(self.angle)*y\n",
    "            \n",
    "            return l1(x=rx, y=ry)\n",
    "        return line\n",
    "    \n",
    "class HollowTri(Shape):\n",
    "    \n",
    "    def __init__(self, a, b, c, pt=0.02):\n",
    "        self.a = a\n",
    "        self.b = b\n",
    "        self.c = c\n",
    "        self.pt = pt\n",
    "        \n",
    "    def draw(self):\n",
    "        \n",
    "        a, b, c = self.a, self.b, self.c\n",
    "        pt = self.pt\n",
    "        \n",
    "        t1 = Triangle(a, b, c)\n",
    "        t2 = Triangle((a[0] - pt, a[1] - pt), (b[0] - pt, b[1] - pt), (c[0] - pt, c[1] - pt))\n",
    "        \n",
    "        def tri(x, y):\n",
    "            \n",
    "            mask = t2(x=x, y=y)\n",
    "            shape = t1(x=x, y=y)\n",
    "            \n",
    "            return np.logical_and(shape, np.logical_not(mask))\n",
    "        \n",
    "        return tri\n",
    "            "
   ]
  },
  {
   "cell_type": "code",
   "execution_count": 5,
   "metadata": {},
   "outputs": [
    {
     "data": {
      "text/plain": [
       "<matplotlib.axes._subplots.AxesSubplot at 0x7fac9db7d7b8>"
      ]
     },
     "execution_count": 5,
     "metadata": {},
     "output_type": "execute_result"
    },
    {
     "data": {
      "image/png": "[encoded data removed]",
      "text/plain": [
       "<Figure size 864x864 with 1 Axes>"
      ]
     },
     "metadata": {
      "needs_background": "light"
     },
     "output_type": "display_data"
    }
   ],
   "source": [
    "image = LayeredImage(scale=2.5, background=\"000000\")\n",
    "\n",
    "center = Circle(y=-0.1, r=0.1, fill=True)\n",
    "\n",
    "image.add_layer(center, black)\n",
    "\n",
    "for x, y, t in circle(0.2, ts):\n",
    "    tri = Triangle((-0.25, 0.25), (-0.15, 0.25), (0, 0)) >> rotate(-t) >> translate(x, y)\n",
    "    tri2 = Triangle((0.25, 0.25), (0.15, 0.25), (0, 0)) >> rotate(-t) >> translate(x, y)\n",
    "    \n",
    "    line = FixedLine(0.8, angle=t - pi/2, pt=0.01) >> translate(0, -0.1)   \n",
    "    \n",
    "    image.add_layer(tri, black)  \n",
    "    image.add_layer(tri2, black)\n",
    "    image.add_layer(line, black)\n",
    "    \n",
    "\n",
    "for x, y, t in circle(0.5, ts):\n",
    "\n",
    "    tri = Triangle((-0.37, 0), (-0.3, -0.1), (0.1, 0)) >> rotate(-t) >> translate(x, y)\n",
    "    tri2 = Triangle((0.37, 0), (0.3, -0.1), (-0.1, 0)) >> rotate(-t) >> translate(x, y)\n",
    "        \n",
    "    image.add_layer(tri, black)  \n",
    "    image.add_layer(tri2, black)\n",
    "    \n",
    "            \n",
    "for x, y, t in circle(0.5, ts):\n",
    "    tri = Triangle((-0.55, 0.25), (-0.55, 0.15), (0, 0)) >> rotate(-t) >> translate(x, y)\n",
    "    tri2 = Triangle((0.55, 0.25), (0.55, 0.15), (0, 0)) >> rotate(-t) >> translate(x, y)\n",
    "        \n",
    "    image.add_layer(tri, black)  \n",
    "    image.add_layer(tri2, black)\n",
    "    \n",
    "        \n",
    "for x, y, t in circle(0.6, ts):\n",
    "    tri = Triangle((-0.275, -0.1), (-0.2, 0.2), (0, 0)) >> rotate(-t) >> translate(x, y)\n",
    "    tri2 = Triangle((0.275, -0.1), (0.2, 0.2), (0, 0)) >> rotate(-t) >> translate(x, y)\n",
    "        \n",
    "    image.add_layer(tri, black)  \n",
    "    image.add_layer(tri2, black)\n",
    "    \n",
    "            \n",
    "for x, y, t in circle(0.8, ts):\n",
    "    tri = Triangle((-0.15, -0.1), (-0.1, 0.1), (0, 0)) >> rotate(-t) >> translate(x, y)\n",
    "    tri2 = Triangle((0.15, -0.1), (0.1, 0.1), (0, 0)) >> rotate(-t) >> translate(x, y)\n",
    "        \n",
    "    image.add_layer(tri, black)  \n",
    "    image.add_layer(tri2, black)"
   ]
  },
  {
   "cell_type": "code",
   "execution_count": null,
   "metadata": {},
   "outputs": [],
   "source": []
  },
  {
   "cell_type": "code",
   "execution_count": null,
   "metadata": {},
   "outputs": [],
   "source": []
  }
 ],
 "metadata": {
  "kernelspec": {
   "display_name": "Python 3",
   "language": "python",
   "name": "python3"
  },
  "language_info": {
   "codemirror_mode": {
    "name": "ipython",
    "version": 3
   },
   "file_extension": ".py",
   "mimetype": "text/x-python",
   "name": "python",
   "nbconvert_exporter": "python",
   "pygments_lexer": "ipython3",
   "version": "3.7.1"
  }
 },
 "nbformat": 4,
 "nbformat_minor": 2
}
