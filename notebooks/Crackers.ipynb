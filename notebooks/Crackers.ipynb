{
 "cells": [
  {
   "cell_type": "code",
   "execution_count": 1,
   "metadata": {},
   "outputs": [],
   "source": [
    "import numpy as np\n",
    "from math import pi\n",
    "\n",
    "from stylo.domain.transform import translate, rotate\n",
    "from stylo.color import FillColor\n",
    "from stylo.shape import Shape, Circle, Square, Ellipse, Rectangle\n",
    "from stylo.image import LayeredImage"
   ]
  },
  {
   "cell_type": "code",
   "execution_count": 2,
   "metadata": {},
   "outputs": [],
   "source": [
    "black = FillColor(\"000000\")\n",
    "red = FillColor(\"ff0000\")\n",
    "gold = FillColor(\"ffff00\")"
   ]
  },
  {
   "cell_type": "code",
   "execution_count": 3,
   "metadata": {},
   "outputs": [],
   "source": [
    "def ored(*args):\n",
    "    \n",
    "    xs = False\n",
    "    \n",
    "    for condition in args:\n",
    "        xs = np.logical_or(xs, condition)\n",
    "        \n",
    "    return xs"
   ]
  },
  {
   "cell_type": "code",
   "execution_count": 4,
   "metadata": {},
   "outputs": [],
   "source": [
    "class Cracker(Shape):\n",
    "    \n",
    "    def __init__(self, scale=1):\n",
    "        self.scale = scale\n",
    "    \n",
    "    def draw(self):\n",
    "        \n",
    "        def join(x, y):\n",
    "            return np.abs(y) < np.abs(x)\n",
    "           \n",
    "        left1 = Rectangle(-1, 0, width=0.5, height=0.5)\n",
    "        right1 = Rectangle(1, 0, width=0.5, height=0.5)\n",
    "        middle = Rectangle(0, 0, width=1, height=0.5)\n",
    "        \n",
    "        def cracker(x, y):\n",
    "            x = x / self.scale\n",
    "            y = y / self.scale\n",
    "            \n",
    "            left_join = np.logical_and(np.abs(y) < 0.25, join(x - 0.625, y/2))\n",
    "            left_join = np.logical_and(left_join, np.abs(x - 0.6) < 0.25)\n",
    "                                \n",
    "            right_join = np.logical_and(np.abs(y) < 0.25, join(x + 0.625, y/2))\n",
    "            right_join = np.logical_and(right_join, np.abs(x + 0.6) < 0.25)\n",
    "         \n",
    "            body = np.logical_or(left1(x=x, y=y), right1(x=x, y=y))\n",
    "            body = np.logical_or(body, middle(x=x, y=y))\n",
    "            \n",
    "            cracker_shape = np.logical_or(body, left_join)\n",
    "            cracker_shape = np.logical_or(cracker_shape, right_join)\n",
    "            \n",
    "            return cracker_shape\n",
    "            \n",
    "        return cracker\n",
    "    \n",
    "class Bands(Shape):\n",
    "    \n",
    "    def __init__(self, cracker):\n",
    "        self.cracker = cracker\n",
    "        \n",
    "    def draw(self):\n",
    "        \n",
    "        def bands(x, y):\n",
    "            \n",
    "            x1 = np.logical_and(np.abs(x) > 0.90, np.abs(x) < 0.94)\n",
    "            x2 = np.logical_and(np.abs(x) > 0.86, np.abs(x) < 0.88)\n",
    "            x3 = np.logical_and(np.abs(x) > 0.35, np.abs(x) < 0.6)\n",
    "            \n",
    "            xs = ored(x1, x2, x3)\n",
    "            \n",
    "            return np.logical_and(xs, self.cracker(x=x, y=y))\n",
    "            \n",
    "        return bands\n",
    "    \n",
    "class Spots(Shape):\n",
    "    \n",
    "    def __init__(self, cracker):\n",
    "        self.cracker = cracker\n",
    "        \n",
    "    def draw(self):\n",
    "        \n",
    "        xs = np.linspace(-1, 1, 16)\n",
    "        ys = np.linspace(-1, 1, 16)\n",
    "        \n",
    "        dots = [\n",
    "            Circle(x=x, y=y, fill=True, r=0.02) for x in xs for y in ys\n",
    "        ]\n",
    "        \n",
    "        def spots(x, y):\n",
    "            \n",
    "            # Rotate the domain by hand.\n",
    "            rx = np.cos(-pi/4)*x - np.sin(-pi/4)*y\n",
    "            ry = np.sin(-pi/4)*x + np.cos(-pi/4)*y\n",
    "            \n",
    "            conds = [c(x=rx, y=ry) for c in dots]\n",
    "            \n",
    "            return np.logical_and(ored(*conds), self.cracker(x=x, y=y))\n",
    "        \n",
    "        return spots\n",
    "    \n",
    "class Curves(Shape):\n",
    "    \n",
    "    def __init__(self, cracker):\n",
    "        self.cracker = cracker\n",
    "        \n",
    "    def draw(self):\n",
    "        \n",
    "        def curves(x, y):\n",
    "            \n",
    "            ys = np.abs(y*8) < np.cos(4*x*pi) * np.cos(4*x*pi) \n",
    "            \n",
    "            return np.logical_and(ys, self.cracker(x=x, y=y))\n",
    "            \n",
    "        return curves"
   ]
  },
  {
   "cell_type": "code",
   "execution_count": 5,
   "metadata": {},
   "outputs": [],
   "source": [
    "cracker1 = Cracker(scale=0.75) >> rotate(-pi/6) >> translate(-.8, 0.35)\n",
    "bands = Bands(cracker1) >> rotate(-pi/6) >> translate(-.8, 0.35)\n",
    "\n",
    "cracker2 = Cracker(scale=0.75) >> rotate(-pi/6)\n",
    "spots = Spots(cracker2) >> rotate(-pi/6)\n",
    "\n",
    "cracker3 = Cracker(scale=0.75) >> rotate(-pi/6) >> translate(.8, -0.35)\n",
    "curves = Curves(cracker3) >> rotate(-pi/6) >> translate(.8, -0.35)"
   ]
  },
  {
   "cell_type": "code",
   "execution_count": 6,
   "metadata": {
    "scrolled": false
   },
   "outputs": [
    {
     "name": "stdout",
     "output_type": "stream",
     "text": [
      "CPU times: user 7.49 s, sys: 7.07 s, total: 14.6 s\n",
      "Wall time: 14.6 s\n"
     ]
    },
    {
     "data": {
      "image/png": "[encoded data removed]",
      "text/plain": [
       "<Figure size 864x864 with 1 Axes>"
      ]
     },
     "metadata": {
      "needs_background": "light"
     },
     "output_type": "display_data"
    }
   ],
   "source": [
    "%%time\n",
    "image = LayeredImage(background=\"000088\")\n",
    "\n",
    "image.add_layer(cracker1, red)\n",
    "image.add_layer(bands, gold)\n",
    "\n",
    "image.add_layer(cracker2, red)\n",
    "image.add_layer(spots, gold)\n",
    "\n",
    "image.add_layer(cracker3, red)\n",
    "image.add_layer(curves, gold)\n",
    "\n",
    "image(1920, 1080)"
   ]
  },
  {
   "cell_type": "code",
   "execution_count": null,
   "metadata": {},
   "outputs": [],
   "source": []
  }
 ],
 "metadata": {
  "kernelspec": {
   "display_name": "Python 3",
   "language": "python",
   "name": "python3"
  },
  "language_info": {
   "codemirror_mode": {
    "name": "ipython",
    "version": 3
   },
   "file_extension": ".py",
   "mimetype": "text/x-python",
   "name": "python",
   "nbconvert_exporter": "python",
   "pygments_lexer": "ipython3",
   "version": "3.7.1"
  }
 },
 "nbformat": 4,
 "nbformat_minor": 2
}
