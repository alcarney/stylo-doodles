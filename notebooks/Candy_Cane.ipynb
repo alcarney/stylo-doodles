{
 "cells": [
  {
   "cell_type": "code",
   "execution_count": 8,
   "metadata": {},
   "outputs": [],
   "source": [
    "info = {\n",
    " \"title\": \"Candy Cane\",\n",
    " \"author\": \"Alex Carney\",\n",
    " \"github_username\": \"alcarney\",\n",
    " \"stylo_version\": \"0.9.0\",\n",
    " \"dimensions\": (1080, 1080)\n",
    "}"
   ]
  },
  {
   "cell_type": "code",
   "execution_count": 1,
   "metadata": {},
   "outputs": [],
   "source": [
    "import numpy as np\n",
    "from math import pi\n",
    "\n",
    "from stylo.color import FillColor\n",
    "from stylo.domain.transform import translate, rotate\n",
    "from stylo.shape import Circle, Rectangle, Shape\n",
    "from stylo.image import LayeredImage"
   ]
  },
  {
   "cell_type": "code",
   "execution_count": 17,
   "metadata": {},
   "outputs": [],
   "source": [
    "black = FillColor()\n",
    "red = FillColor(\"ff0000\")\n",
    "white = FillColor(\"ffffff\")\n",
    "darkgreen = FillColor(\"004400\") "
   ]
  },
  {
   "cell_type": "code",
   "execution_count": 89,
   "metadata": {},
   "outputs": [],
   "source": [
    "class Leaf(Shape):\n",
    "    \n",
    "    def __init__(self, scale=1):\n",
    "        self.scale = scale\n",
    "\n",
    "    def draw(self):\n",
    "        \n",
    "        y1 = 1.3\n",
    "        y2 = 1.2\n",
    "        y3 = 1\n",
    "        \n",
    "        x1 = 1\n",
    "        x2 = 1.8\n",
    "        \n",
    "        c1 = Circle(y=y1, r=0.6, fill=True)\n",
    "        c2 = Circle(y=-y1, r=0.6, fill=True)\n",
    "        \n",
    "        c3 = Circle(x=x1, y=-y2, r=0.6, fill=True)\n",
    "        c4 = Circle(x=-x1, y=-y2, r=0.6, fill=True)\n",
    "        c5 = Circle(x=x1, y=y2, r=0.6, fill=True)\n",
    "        c6 = Circle(x=-x1, y=y2, r=0.6, fill=True)\n",
    "        \n",
    "        c7 = Circle(x=x2, y=-y3, r=0.6, fill=True)\n",
    "        c8 = Circle(x=-x2, y=-y3, r=0.6, fill=True)\n",
    "        c9 = Circle(x=x2, y=y3, r=0.6, fill=True)\n",
    "        c10 = Circle(x=-x2, y=y3, r=0.6, fill=True)\n",
    "        \n",
    "        def leaf(x, y):\n",
    "            \n",
    "            x = x/self.scale\n",
    "            y = y/self.scale\n",
    "            \n",
    "            xs = x / 2.5\n",
    "            \n",
    "            above = y > xs*xs - 1\n",
    "            below = y < 1 - xs*xs\n",
    "            \n",
    "            leaf = np.logical_and(above, below)\n",
    "            \n",
    "            c = np.logical_or(c1(x=x, y=y), c2(x=x, y=y))\n",
    "            c = np.logical_or(c3(x=x, y=y), c)\n",
    "            c = np.logical_or(c4(x=x, y=y), c)\n",
    "            c = np.logical_or(c5(x=x, y=y), c)\n",
    "            c = np.logical_or(c6(x=x, y=y), c)\n",
    "            c = np.logical_or(c7(x=x, y=y), c)\n",
    "            c = np.logical_or(c8(x=x, y=y), c)\n",
    "            c = np.logical_or(c9(x=x, y=y), c)\n",
    "            c = np.logical_or(c10(x=x, y=y), c)\n",
    "            \n",
    "            cutouts = np.logical_not(c)\n",
    "            \n",
    "            #return cutouts\n",
    "            return np.logical_and(leaf, cutouts)\n",
    "        \n",
    "        return leaf"
   ]
  },
  {
   "cell_type": "code",
   "execution_count": 90,
   "metadata": {},
   "outputs": [],
   "source": [
    "class Cane(Shape):\n",
    "    \n",
    "    def draw(self):\n",
    "            \n",
    "        y1 = 0.3\n",
    "        \n",
    "        stem = Rectangle(x=0, y=-0.1, width=0.08, height=0.8)\n",
    "        outer_hook = Circle(x=0.16, y=y1, r=0.2, fill=True)\n",
    "        inner_hook = Circle(x=0.16, y=y1, r=0.12, fill=True)\n",
    "        \n",
    "        cap1 = Circle(x=0.32, y=y1, r=0.04, fill=True)\n",
    "        cap2 = Circle(y=-0.5, r=0.04, fill=True)\n",
    "        \n",
    "        def cane(x, y):\n",
    "            \n",
    "            inner = np.logical_not(inner_hook(x=x, y=y))\n",
    "            ring = np.logical_and(outer_hook(x=x, y=y), inner)\n",
    "            \n",
    "            hook = np.logical_and(ring, y >= y1)\n",
    "            \n",
    "            candy = np.logical_or(stem(x=x, y=y), hook)\n",
    "            candy = np.logical_or(candy, cap1(x=x, y=y))\n",
    "            \n",
    "            return np.logical_or(candy, cap2(x=x, y=y))\n",
    "            \n",
    "        return cane\n",
    "    \n",
    "class CandyCane(Shape):\n",
    "    \n",
    "    def __init__(self, invert=False, flip=False):\n",
    "        self.invert = invert\n",
    "        self.flip = flip\n",
    "    \n",
    "    def draw(self):\n",
    "        \n",
    "        cane = Cane()\n",
    "        \n",
    "        def candy(x, y):\n",
    "            \n",
    "            if self.flip:\n",
    "                x = -x\n",
    "            \n",
    "            # Rotate the domain by hand.\n",
    "            rx = np.cos(-pi/4)*x - np.sin(-pi/4)*y\n",
    "            ry = np.sin(-pi/4)*x + np.cos(-pi/4)*y\n",
    "            \n",
    "            stripes = rx/4 < -np.sin(28*ry*pi)\n",
    "            \n",
    "            if self.invert:\n",
    "                stripes = np.logical_not(stripes)\n",
    "            \n",
    "            candycane = np.logical_and(cane(x=x, y=y), stripes)\n",
    "            \n",
    "            return candycane\n",
    "            \n",
    "        return candy"
   ]
  },
  {
   "cell_type": "code",
   "execution_count": 91,
   "metadata": {},
   "outputs": [],
   "source": [
    "cane = CandyCane() >> rotate(pi/6)\n",
    "inv_cane = CandyCane(True) >> rotate(pi/6)\n",
    "\n",
    "cane2 = CandyCane(flip=True) >> rotate(-pi/6)\n",
    "inv_cane2 = CandyCane(invert=True, flip=True) >> rotate(-pi/6)\n",
    "\n",
    "leaf1 = Leaf(scale=0.06) >> rotate(pi/12) >> translate(-0.1, 0)\n",
    "leaf2 = Leaf(scale=0.06) >> rotate(-pi/12) >> translate(0.1, 0)\n",
    "\n",
    "cherry1 = Circle(y=-0.05, r=0.02, fill=True)\n",
    "cherry2 = Circle(x=0.02, y=-0.02, r=0.02, fill=True)\n",
    "cherry3 = Circle(x=-0.02, y=-0.02, r=0.02, fill=True)"
   ]
  },
  {
   "cell_type": "code",
   "execution_count": 92,
   "metadata": {},
   "outputs": [
    {
     "data": {
      "text/plain": [
       "<matplotlib.axes._subplots.AxesSubplot at 0x7fd551d369e8>"
      ]
     },
     "execution_count": 92,
     "metadata": {},
     "output_type": "execute_result"
    },
    {
     "data": {
      "image/png": "[encoded data removed]",
      "text/plain": [
       "<Figure size 864x864 with 1 Axes>"
      ]
     },
     "metadata": {
      "needs_background": "light"
     },
     "output_type": "display_data"
    }
   ],
   "source": [
    "image = LayeredImage(background=\"00cc00\", scale=1)\n",
    "\n",
    "image.add_layer(cane2, red)\n",
    "image.add_layer(inv_cane2, white)\n",
    "\n",
    "image.add_layer(cane, red)\n",
    "image.add_layer(inv_cane, white)\n",
    "\n",
    "image.add_layer(leaf1, darkgreen)\n",
    "image.add_layer(leaf2, darkgreen)\n",
    "\n",
    "image.add_layer(cherry1, red)\n",
    "image.add_layer(cherry2, red)\n",
    "image.add_layer(cherry3, red)\n",
    "\n",
    "image(1080, 1080)"
   ]
  },
  {
   "cell_type": "code",
   "execution_count": null,
   "metadata": {},
   "outputs": [],
   "source": []
  }
 ],
 "metadata": {
  "kernelspec": {
   "display_name": "Python 3",
   "language": "python",
   "name": "python3"
  },
  "language_info": {
   "codemirror_mode": {
    "name": "ipython",
    "version": 3
   },
   "file_extension": ".py",
   "mimetype": "text/x-python",
   "name": "python",
   "nbconvert_exporter": "python",
   "pygments_lexer": "ipython3",
   "version": "3.7.1"
  }
 },
 "nbformat": 4,
 "nbformat_minor": 2
}
