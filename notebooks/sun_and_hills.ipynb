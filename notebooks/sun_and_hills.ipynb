{
 "cells": [
  {
   "cell_type": "code",
   "execution_count": 1,
   "metadata": {},
   "outputs": [],
   "source": [
    "info = {\n",
    "    \"title\": \"Sun and Hills\",\n",
    "    \"author\": \"Alex Carney\",\n",
    "    \"github_username\": \"alcarney\",\n",
    "    \"stylo_version\": \"0.6.0\",\n",
    "    \"dimensions\": (1920, 1080)\n",
    "}"
   ]
  },
  {
   "cell_type": "code",
   "execution_count": 2,
   "metadata": {},
   "outputs": [],
   "source": [
    "from stylo.shape import Circle\n",
    "from stylo.color import FillColor\n",
    "from stylo.image import LayeredImage\n",
    "from stylo.domain import SquareDomain\n",
    "from stylo.domain.transform import translate"
   ]
  },
  {
   "cell_type": "code",
   "execution_count": 3,
   "metadata": {},
   "outputs": [],
   "source": [
    "hillgreen = FillColor(\"00ee00\")\n",
    "darkhillgreen = FillColor(\"00cc00\")\n",
    "lighthillgreen = FillColor(\"00ff00\")\n",
    "white = FillColor(\"ffffff\")\n",
    "sunlight = FillColor(\"ffff00\")"
   ]
  },
  {
   "cell_type": "code",
   "execution_count": 4,
   "metadata": {},
   "outputs": [],
   "source": [
    "hill1 = Circle(x=0, y=0, r=8, fill=True) >> translate(5, -7)\n",
    "hill2 = Circle(x=0, y=0, r=8, fill=True) >> translate(-6, -6)\n",
    "hill3 = Circle(x=0, y=0, r=10, fill=True) >> translate(-2, -12)"
   ]
  },
  {
   "cell_type": "code",
   "execution_count": 5,
   "metadata": {},
   "outputs": [],
   "source": [
    "def make_cloud(x, y, scale=1):\n",
    "    cloud = Circle(x=(x + 0), y=(y + 0.4), r=(0.75*scale), fill=True)\n",
    "    cloud |= Circle(x=(x + 0.6), y=(y + 0.25), r=(0.6*scale), fill=True)\n",
    "    cloud |= Circle(x=(x + -0.6), y=(y + 0.25), r=(0.6*scale), fill=True)\n",
    "    cloud |= Circle(x=(x + -1.2), y=(y + -0.4), r=(0.65*scale), fill=True)\n",
    "    cloud |= Circle(x=(x + 1.2), y=(y + -0.4), r=(0.65*scale), fill=True)\n",
    "    cloud |= Circle(x=(x + 0), y=(y + -0.3), r=(0.8*scale), fill=True)\n",
    "    \n",
    "    return cloud"
   ]
  },
  {
   "cell_type": "code",
   "execution_count": 6,
   "metadata": {},
   "outputs": [],
   "source": [
    "cloud1 = make_cloud(7, 4, 1) \n",
    "cloud2 = make_cloud(3, 3, 1) \n",
    "cloud3 = make_cloud(-5.5, 4.5, 1)\n",
    "cloud4 = make_cloud(-9.5, 5, 1)"
   ]
  },
  {
   "cell_type": "code",
   "execution_count": 7,
   "metadata": {},
   "outputs": [],
   "source": [
    "sun = Circle(x=-8, y=5, r=2.2, fill=True)"
   ]
  },
  {
   "cell_type": "code",
   "execution_count": 8,
   "metadata": {},
   "outputs": [
    {
     "data": {
      "image/png": "[encoded data removed]",
      "text/plain": [
       "<Figure size 864x864 with 1 Axes>"
      ]
     },
     "metadata": {
      "needs_background": "light"
     },
     "output_type": "display_data"
    }
   ],
   "source": [
    "image = LayeredImage(background=\"aaeeff\", scale=12)\n",
    "\n",
    "image.add_layer(hill2, darkhillgreen)\n",
    "image.add_layer(hill1, hillgreen)\n",
    "image.add_layer(hill3, lighthillgreen)\n",
    "\n",
    "image.add_layer(sun, sunlight)\n",
    "\n",
    "image.add_layer(cloud1, white)\n",
    "image.add_layer(cloud2, white)\n",
    "image.add_layer(cloud3, white)\n",
    "image.add_layer(cloud4, white)\n",
    "\n",
    "image(1920, 1080);"
   ]
  },
  {
   "cell_type": "code",
   "execution_count": null,
   "metadata": {},
   "outputs": [],
   "source": []
  }
 ],
 "metadata": {
  "kernelspec": {
   "display_name": "Python 3",
   "language": "python",
   "name": "python3"
  },
  "language_info": {
   "codemirror_mode": {
    "name": "ipython",
    "version": 3
   },
   "file_extension": ".py",
   "mimetype": "text/x-python",
   "name": "python",
   "nbconvert_exporter": "python",
   "pygments_lexer": "ipython3",
   "version": "3.7.1"
  }
 },
 "nbformat": 4,
 "nbformat_minor": 2
}
