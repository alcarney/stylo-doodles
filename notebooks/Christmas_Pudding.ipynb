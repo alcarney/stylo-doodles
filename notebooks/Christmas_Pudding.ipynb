{
 "cells": [
  {
   "cell_type": "code",
   "execution_count": 1,
   "metadata": {},
   "outputs": [],
   "source": [
    "info = {\n",
    " \"title\": \"Christmas Pudding\",\n",
    " \"author\": \"Alex Carney\",\n",
    " \"github_username\": \"alcarney\",\n",
    " \"stylo_version\": \"0.9.0\",\n",
    " \"dimensions\": (1080, 1080)\n",
    "}"
   ]
  },
  {
   "cell_type": "code",
   "execution_count": 2,
   "metadata": {
    "scrolled": true
   },
   "outputs": [],
   "source": [
    "import numpy as np\n",
    "from math import pi\n",
    "\n",
    "from stylo.domain.transform import translate, rotate\n",
    "from stylo.shape import Circle, Shape\n",
    "from stylo.color import FillColor\n",
    "from stylo.image import LayeredImage"
   ]
  },
  {
   "cell_type": "code",
   "execution_count": 3,
   "metadata": {},
   "outputs": [],
   "source": [
    "pudding = FillColor(\"444400\")\n",
    "darkgreen = FillColor(\"004400\")\n",
    "white = FillColor(\"ffffff\")\n",
    "darkred = FillColor(\"cc0000\")\n",
    "red = FillColor(\"dd0000\")"
   ]
  },
  {
   "cell_type": "code",
   "execution_count": 4,
   "metadata": {},
   "outputs": [],
   "source": [
    "class Topping(Shape):\n",
    "    \n",
    "    def draw(self):\n",
    "                \n",
    "        def topping(x, y):\n",
    "            \n",
    "            s1 = 0.1*np.cos(3.7*x*pi)\n",
    "            s2 = 0.07*np.sin(8*(x-0.23)*pi)\n",
    "            s3 = 0.2*np.sin(7*(x - 0.45)*pi)\n",
    "\n",
    "            a = y*2 > 0.6 + s3 + s1 + s2\n",
    "            \n",
    "            return a\n",
    "        \n",
    "        return topping"
   ]
  },
  {
   "cell_type": "code",
   "execution_count": 5,
   "metadata": {},
   "outputs": [],
   "source": [
    "class Leaf(Shape):\n",
    "    \n",
    "    def __init__(self, scale=1):\n",
    "        self.scale = scale\n",
    "\n",
    "    def draw(self):\n",
    "        \n",
    "        y1 = 1.3\n",
    "        y2 = 1.2\n",
    "        y3 = 1\n",
    "        \n",
    "        x1 = 1\n",
    "        x2 = 1.8\n",
    "        \n",
    "        c1 = Circle(y=y1, r=0.6, fill=True)\n",
    "        c2 = Circle(y=-y1, r=0.6, fill=True)\n",
    "        \n",
    "        c3 = Circle(x=x1, y=-y2, r=0.6, fill=True)\n",
    "        c4 = Circle(x=-x1, y=-y2, r=0.6, fill=True)\n",
    "        c5 = Circle(x=x1, y=y2, r=0.6, fill=True)\n",
    "        c6 = Circle(x=-x1, y=y2, r=0.6, fill=True)\n",
    "        \n",
    "        c7 = Circle(x=x2, y=-y3, r=0.6, fill=True)\n",
    "        c8 = Circle(x=-x2, y=-y3, r=0.6, fill=True)\n",
    "        c9 = Circle(x=x2, y=y3, r=0.6, fill=True)\n",
    "        c10 = Circle(x=-x2, y=y3, r=0.6, fill=True)\n",
    "        \n",
    "        def leaf(x, y):\n",
    "            \n",
    "            x = x/self.scale\n",
    "            y = y/self.scale\n",
    "            \n",
    "            xs = x / 2.5\n",
    "            \n",
    "            above = y > xs*xs - 1\n",
    "            below = y < 1 - xs*xs\n",
    "            \n",
    "            leaf = np.logical_and(above, below)\n",
    "            \n",
    "            c = np.logical_or(c1(x=x, y=y), c2(x=x, y=y))\n",
    "            c = np.logical_or(c3(x=x, y=y), c)\n",
    "            c = np.logical_or(c4(x=x, y=y), c)\n",
    "            c = np.logical_or(c5(x=x, y=y), c)\n",
    "            c = np.logical_or(c6(x=x, y=y), c)\n",
    "            c = np.logical_or(c7(x=x, y=y), c)\n",
    "            c = np.logical_or(c8(x=x, y=y), c)\n",
    "            c = np.logical_or(c9(x=x, y=y), c)\n",
    "            c = np.logical_or(c10(x=x, y=y), c)\n",
    "            \n",
    "            cutouts = np.logical_not(c)\n",
    "            \n",
    "            #return cutouts\n",
    "            return np.logical_and(leaf, cutouts)\n",
    "        \n",
    "        return leaf"
   ]
  },
  {
   "cell_type": "code",
   "execution_count": 6,
   "metadata": {},
   "outputs": [],
   "source": [
    "pudding_shape = Circle(r=0.8, fill=True)\n",
    "topping = Circle(r=0.8, fill=True) & Topping()\n",
    "\n",
    "cherries = Circle(y=0.8, r=0.06, fill=True) |\\\n",
    "           Circle(y=0.72, x=0.08, r=0.06, fill=True) |\\\n",
    "           Circle(y=0.72, x=-0.08, r=0.06, fill=True)\n",
    "\n",
    "holly1 = Leaf(scale=0.2) >> rotate(pi/4) >> translate(-0.35, 1.1)\n",
    "holly2 = Leaf(scale=0.2) >> rotate(-pi/6) >> translate(0.45, 1)"
   ]
  },
  {
   "cell_type": "code",
   "execution_count": 7,
   "metadata": {},
   "outputs": [
    {
     "data": {
      "text/plain": [
       "<matplotlib.axes._subplots.AxesSubplot at 0x7f9b871bde80>"
      ]
     },
     "execution_count": 7,
     "metadata": {},
     "output_type": "execute_result"
    },
    {
     "data": {
      "image/png": "[encoded data removed]",
      "text/plain": [
       "<Figure size 864x864 with 1 Axes>"
      ]
     },
     "metadata": {
      "needs_background": "light"
     },
     "output_type": "display_data"
    }
   ],
   "source": [
    "image = LayeredImage(background=\"00cc00\", scale=3)\n",
    "\n",
    "image.add_layer(pudding_shape, pudding)\n",
    "image.add_layer(topping, white)\n",
    "\n",
    "image.add_layer(holly1, darkgreen)\n",
    "image.add_layer(holly2, darkgreen)\n",
    "\n",
    "\n",
    "image.add_layer(cherries, red)\n",
    "\n",
    "\n",
    "image(1080, 1080)"
   ]
  },
  {
   "cell_type": "code",
   "execution_count": null,
   "metadata": {},
   "outputs": [],
   "source": []
  }
 ],
 "metadata": {
  "kernelspec": {
   "display_name": "Python 3",
   "language": "python",
   "name": "python3"
  },
  "language_info": {
   "codemirror_mode": {
    "name": "ipython",
    "version": 3
   },
   "file_extension": ".py",
   "mimetype": "text/x-python",
   "name": "python",
   "nbconvert_exporter": "python",
   "pygments_lexer": "ipython3",
   "version": "3.7.1"
  }
 },
 "nbformat": 4,
 "nbformat_minor": 2
}
