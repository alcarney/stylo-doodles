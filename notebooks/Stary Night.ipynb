{
 "cells": [
  {
   "cell_type": "code",
   "execution_count": 1,
   "metadata": {},
   "outputs": [],
   "source": [
    "info = {\n",
    " \"title\": \"Stary Night\",\n",
    " \"author\": \"Alex Carney\",\n",
    " \"github_username\": \"alcarney\",\n",
    " \"stylo_version\": \"0.9.0\",\n",
    " \"dimensions\": (1920, 1080)\n",
    "}"
   ]
  },
  {
   "cell_type": "code",
   "execution_count": 2,
   "metadata": {},
   "outputs": [],
   "source": [
    "import numpy as np\n",
    "import numpy.random as npr\n",
    "from math import pi, sin, cos\n",
    "\n",
    "from stylo.domain.transform import translate\n",
    "from stylo.color import FillColor\n",
    "from stylo.shape import Circle, Triangle, Shape\n",
    "from stylo.image import LayeredImage\n",
    "from stylo.math import lerp"
   ]
  },
  {
   "cell_type": "code",
   "execution_count": 3,
   "metadata": {},
   "outputs": [],
   "source": [
    "moon_color = FillColor(\"ffffaa\")"
   ]
  },
  {
   "cell_type": "code",
   "execution_count": 4,
   "metadata": {},
   "outputs": [],
   "source": [
    "moon_x = 1\n",
    "moon_y = 0.65\n",
    "moon = Circle(x=moon_x, y=moon_y, r=0.4, fill=True) \\\n",
    "     & ~Circle(x=moon_x + 0.05, y=moon_y + 0.05, fill=True, r=0.4)"
   ]
  },
  {
   "cell_type": "code",
   "execution_count": 5,
   "metadata": {},
   "outputs": [],
   "source": [
    "class Star(Shape):\n",
    "    \n",
    "    def __init__(self, scale=1):\n",
    "        self.scale = scale\n",
    "    \n",
    "    def draw(self):\n",
    "        \n",
    "        t1 = Triangle((0.5, 0), (-0.5, 0), (0, 0.75))\n",
    "        t2 = Triangle((0.5, 0.5), (-0.5, 0.5), (0, -0.25))\n",
    "        \n",
    "        def star(x, y):\n",
    "            \n",
    "            x = x / self.scale\n",
    "            y = y / self.scale\n",
    "            \n",
    "            return np.logical_or(t1(x=x, y=y), t2(x=x, y=y))\n",
    "            \n",
    "        return star\n",
    "    \n",
    "star = Star(scale=0.1) "
   ]
  },
  {
   "cell_type": "code",
   "execution_count": 6,
   "metadata": {},
   "outputs": [],
   "source": [
    "xs = lerp(-1.8, 0.9)\n",
    "ys = lerp(-1, 1)\n",
    "scale = lerp(0.07, 0.03)"
   ]
  },
  {
   "cell_type": "code",
   "execution_count": 7,
   "metadata": {},
   "outputs": [],
   "source": [
    "npr.seed(128)\n",
    "N = 30\n",
    "\n",
    "stars = np.zeros((N, 3))\n",
    "stars[:, 0] = xs(npr.rand(N))\n",
    "stars[:, 1] = ys(npr.rand(N))\n",
    "stars[:, 2] = scale(npr.rand(N))"
   ]
  },
  {
   "cell_type": "code",
   "execution_count": 8,
   "metadata": {},
   "outputs": [
    {
     "data": {
      "text/plain": [
       "<matplotlib.axes._subplots.AxesSubplot at 0x7f4118acd3c8>"
      ]
     },
     "execution_count": 8,
     "metadata": {},
     "output_type": "execute_result"
    },
    {
     "data": {
      "image/png": "[encoded data removed]",
      "text/plain": [
       "<Figure size 864x864 with 1 Axes>"
      ]
     },
     "metadata": {
      "needs_background": "light"
     },
     "output_type": "display_data"
    }
   ],
   "source": [
    "image = LayeredImage(background=\"000022\")\n",
    "\n",
    "image.add_layer(moon, moon_color)\n",
    "\n",
    "for p in stars:\n",
    "    star = Star(scale=p[2]) >> translate(p[0], p[1])\n",
    "    image.add_layer(star, moon_color)\n"
   ]
  },
  {
   "cell_type": "code",
   "execution_count": null,
   "metadata": {},
   "outputs": [],
   "source": []
  }
 ],
 "metadata": {
  "kernelspec": {
   "display_name": "Python 3",
   "language": "python",
   "name": "python3"
  },
  "language_info": {
   "codemirror_mode": {
    "name": "ipython",
    "version": 3
   },
   "file_extension": ".py",
   "mimetype": "text/x-python",
   "name": "python",
   "nbconvert_exporter": "python",
   "pygments_lexer": "ipython3",
   "version": "3.7.1"
  }
 },
 "nbformat": 4,
 "nbformat_minor": 2
}
