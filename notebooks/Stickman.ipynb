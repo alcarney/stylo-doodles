{
 "cells": [
  {
   "cell_type": "code",
   "execution_count": 1,
   "metadata": {},
   "outputs": [],
   "source": [
    "info = {\n",
    " \"title\": \"Stickman\",\n",
    " \"author\": \"Alex Carney\",\n",
    " \"github_username\": \"alcarney\",\n",
    " \"stylo_version\": \"0.7.0\",\n",
    " \"dimensions\": (1920, 1080)\n",
    "}"
   ]
  },
  {
   "cell_type": "code",
   "execution_count": 2,
   "metadata": {},
   "outputs": [],
   "source": [
    "from math import pi, sin, cos\n",
    "\n",
    "from stylo.domain.transform import translate, rotate\n",
    "from stylo.color import FillColor\n",
    "from stylo.shape import Circle, Line\n",
    "from stylo.image import LayeredImage\n",
    "\n",
    "\n",
    "%matplotlib inline"
   ]
  },
  {
   "cell_type": "code",
   "execution_count": 3,
   "metadata": {},
   "outputs": [],
   "source": [
    "black = FillColor(\"000000\")\n",
    "\n",
    "class Stickman:\n",
    "    \n",
    "    def __init__(self):\n",
    "        self.head_x = 0\n",
    "        self.head_y = 1\n",
    "        self.head_size = .3\n",
    "        \n",
    "        self.pt = 0.02\n",
    "        \n",
    "        self.body_angle = pi/2 \n",
    "        self.body_length = 1\n",
    "        self.leg_length = 1\n",
    "        \n",
    "        self.arm_length = 1\n",
    "        self.left_arm_angle = self.body_angle - pi/8\n",
    "        self.right_arm_angle = self.body_angle + pi/8\n",
    "        \n",
    "        self.left_leg_angle = self.body_angle + pi/8\n",
    "        self.right_leg_angle = self.body_angle - pi/8\n",
    "        \n",
    "        self._calculate()\n",
    "        \n",
    "    def _calculate(self):\n",
    "        \n",
    "        self.body_end = self.head_size + self.body_length\n",
    "        self.arm_start = self.head_size + 0*self.body_length\n",
    "        \n",
    "        self.neck = {\n",
    "            'x': self.head_x + self.head_size*cos(-self.body_angle),\n",
    "            'y': self.head_y + self.head_size*sin(-self.body_angle)\n",
    "        }\n",
    "        \n",
    "        self.body = {\n",
    "            'x': self.head_x + self.body_end*cos(-self.body_angle),\n",
    "            'y': self.head_y + self.body_end*sin(-self.body_angle)\n",
    "        }\n",
    "        \n",
    "        self.arm = {\n",
    "            'x': self.head_x + self.arm_start * cos(-self.body_angle),\n",
    "            'y': self.head_y + self.arm_start * sin(-self.body_angle)\n",
    "        }\n",
    "        \n",
    "        self.leg_start = self.body_end\n",
    "        self.leg_end = self.body_end + self.leg_length\n",
    "        \n",
    "        \n",
    "    def _construct_head(self, image):\n",
    "        \n",
    "        head = Circle(r=self.head_size, pt=self.pt*0.9) \\\n",
    "             >> translate(self.head_x, self.head_y)\n",
    "        \n",
    "        image.add_layer(head, black)\n",
    "        \n",
    "    def _construct_body(self, image):\n",
    "        \n",
    "        body = Line((0, 0), (self.body_length,0), pt=self.pt*1.03) \\\n",
    "             >> rotate(self.body_angle) \\\n",
    "             >> translate(self.neck['x'], self.neck['y'])\n",
    "        \n",
    "        \n",
    "        image.add_layer(body, black)\n",
    "        \n",
    "    def _construct_legs(self, image):\n",
    "        \n",
    "        left_leg = Line((0, 0), (self.leg_length, 0), pt=self.pt) \\\n",
    "                 >> rotate(self.left_leg_angle) \\\n",
    "                 >> translate(self.body['x'], self.body['y'])\n",
    "        \n",
    "        right_leg = Line((0, 0), (self.leg_length, 0), pt=self.pt) \\\n",
    "                  >> rotate(self.right_leg_angle) \\\n",
    "                  >> translate(self.body['x'], self.body['y'])\n",
    "        \n",
    "        \n",
    "        image.add_layer(left_leg, black)\n",
    "        image.add_layer(right_leg, black)\n",
    "        \n",
    "    def _construct_arms(self, image):\n",
    "        \n",
    "        left_arm = Line((0, 0), (self.arm_length, 0), pt=self.pt) \\\n",
    "                 >> rotate(self.left_arm_angle) \\\n",
    "                 >> translate(self.arm['x'], self.arm['y'])\n",
    "        \n",
    "        right_arm = Line((0,0), (self.arm_length, 0), pt=self.pt) \\\n",
    "                  >> rotate(self.right_arm_angle) \\\n",
    "                  >> translate(self.arm['x'], self.arm['y'])\n",
    "            \n",
    "        image.add_layer(left_arm, black)\n",
    "        image.add_layer(right_arm, black)\n",
    "    \n",
    "    def construct(self, image):\n",
    "        \n",
    "        self._construct_head(image)\n",
    "        self._construct_body(image)\n",
    "        self._construct_legs(image)\n",
    "        self._construct_arms(image)\n",
    "        \n",
    "        pass\n",
    "    \n",
    "stickman = Stickman()"
   ]
  },
  {
   "cell_type": "code",
   "execution_count": 4,
   "metadata": {},
   "outputs": [
    {
     "data": {
      "text/plain": [
       "<matplotlib.axes._subplots.AxesSubplot at 0x7fdca3251898>"
      ]
     },
     "execution_count": 4,
     "metadata": {},
     "output_type": "execute_result"
    },
    {
     "data": {
      "image/png": "[encoded data removed]",
      "text/plain": [
       "<Figure size 864x864 with 1 Axes>"
      ]
     },
     "metadata": {
      "needs_background": "light"
     },
     "output_type": "display_data"
    }
   ],
   "source": [
    "image = LayeredImage(scale=3)\n",
    "\n",
    "stickman.construct(image)\n"
   ]
  }
 ],
 "metadata": {
  "kernelspec": {
   "display_name": "Python 3",
   "language": "python",
   "name": "python3"
  },
  "language_info": {
   "codemirror_mode": {
    "name": "ipython",
    "version": 3
   },
   "file_extension": ".py",
   "mimetype": "text/x-python",
   "name": "python",
   "nbconvert_exporter": "python",
   "pygments_lexer": "ipython3",
   "version": "3.7.1"
  }
 },
 "nbformat": 4,
 "nbformat_minor": 2
}
