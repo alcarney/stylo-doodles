{
 "cells": [
  {
   "cell_type": "code",
   "execution_count": 1,
   "metadata": {},
   "outputs": [],
   "source": [
    "info = {\n",
    "    \"title\": \"Tardis at the Seaside\",\n",
    "    \"author\": \"Stephanie Jones\",\n",
    "    \"github_username\": \"StephanieAngharad\",\n",
    "    \"stylo_version\": \"0.6.1\",\n",
    "    \"dimensions\": (1920, 1080)   \n",
    "}"
   ]
  },
  {
   "cell_type": "code",
   "execution_count": 2,
   "metadata": {},
   "outputs": [],
   "source": [
    "from stylo.image import LayeredImage\n",
    "from stylo.color import FillColor\n",
    "from stylo.shape import Circle, Rectangle, Triangle\n",
    "from stylo.domain.transform import translate"
   ]
  },
  {
   "cell_type": "code",
   "execution_count": 3,
   "metadata": {},
   "outputs": [],
   "source": [
    "black = FillColor(\"000000\")\n",
    "\n",
    "white = FillColor(\"ffffff\")\n",
    "yellow = FillColor(\"ffff00\")\n",
    "red = FillColor(\"dd2300\")\n",
    "orange = FillColor(\"FFA500\")\n",
    "dark_blue = FillColor(\"0B2AD6\")\n",
    "D_blue = FillColor(\"051883\")\n",
    "grey = FillColor(\"AFC0C8\")\n",
    "skyblue = FillColor(\"ABF1FF\")\n",
    "sand = FillColor(\"FFDC63\")\n",
    "water = FillColor(\"28B7FF\")"
   ]
  },
  {
   "cell_type": "code",
   "execution_count": 4,
   "metadata": {},
   "outputs": [],
   "source": [
    "def make_cloud(x, y, scale=1):\n",
    "    cloud = Circle(x=(x + 0), y=(y + 0.4), r=(0.75*scale), fill=True)\n",
    "    cloud |= Circle(x=(x + 0.6), y=(y + 0.25), r=(0.6*scale), fill=True)\n",
    "    cloud |= Circle(x=(x + -0.6), y=(y + 0.25), r=(0.6*scale), fill=True)\n",
    "    cloud |= Circle(x=(x + -1.2), y=(y + -0.4), r=(0.65*scale), fill=True)\n",
    "    cloud |= Circle(x=(x + 1.2), y=(y + -0.4), r=(0.65*scale), fill=True)\n",
    "    cloud |= Circle(x=(x + 0), y=(y + -0.3), r=(0.8*scale), fill=True)\n",
    "    \n",
    "    return cloud"
   ]
  },
  {
   "cell_type": "code",
   "execution_count": 5,
   "metadata": {},
   "outputs": [],
   "source": [
    "cloud1 = make_cloud(7, 4, 1) \n",
    "cloud2 = make_cloud(3, 3, 1) \n",
    "cloud3 = make_cloud(-5.5, 4.5, 1)\n",
    "cloud4 = make_cloud(-9.5, 5, 1)\n",
    "Sand = Rectangle(0, -5, 20, 4)\n",
    "Sky = Rectangle(0, 0, 20, 10)\n",
    "Tardis_base = Rectangle(0, -4.5, 4.5, 0.75) | Rectangle(0, -0.5, 4, 7) | Rectangle(0, 3.3, 3.5, 0.4) | Rectangle(0, 3.75, 3, 0.4) \n",
    "Light = Rectangle(0,4.3, 0.5, 0.5)  \n",
    "Sign = Rectangle(0, 2.4, 3.5, 0.7) \n",
    "Tardis_Panels = Rectangle(-0.8, 1.2, 1.6, 1.25) | Rectangle(0.8, 1.2, 1.6, 1.25) | Rectangle(0.8, -0.3, 1.5, 1.25) \n",
    "Tardis_Panels2 = Rectangle(0.8, -1.7, 1.5, 1.25) | Rectangle(0.8, -3.1, 1.5, 1.25) | Rectangle(-0.8, -0.3, 1.5, 1.25) \n",
    "Tardis_Panels3 = Rectangle(-0.8, -1.7, 1.5, 1.25)| Rectangle(-0.8, -3.1, 1.5, 1.25)\n",
    "Windows1 = Rectangle(-1.3, 1.5, 0.4, 0.4) | Rectangle(-0.8, 1.5, 0.4, 0.4) | Rectangle(-0.3, 1.5, 0.4, 0.4) \n",
    "Windows2 = Rectangle(-1.3, 1, 0.4, 0.4) | Rectangle(-0.8, 1, 0.4, 0.4) | Rectangle(-0.3, 1, 0.4, 0.4) \n",
    "Windows3 = Rectangle(1.3, 1.5, 0.4, 0.4) | Rectangle(0.8, 1.5, 0.4, 0.4) | Rectangle(0.3, 1.5, 0.4, 0.4) \n",
    "Windows4 = Rectangle(1.3, 1, 0.4, 0.4) | Rectangle(0.8, 1, 0.4, 0.4) | Rectangle(0.3, 1, 0.4, 0.4)\n",
    "Poster = Rectangle(-0.8, -0.3, 1.5, 1.25)         \n",
    "\n",
    "sun = Circle(x=-8, y=5, r=2, fill=True)\n",
    "Sea = Rectangle(0, -2.5, 20, 1)\n",
    "sails = Triangle((0.1, 0.6), (2.5, 0.6), (0.1, 3.5)) | Triangle((-0.1, 0.6), (-1.5, 0.6), (-0.1, 3.5))\n",
    "boat = Rectangle(0, 0, 3.5, 1) | Triangle((1.75, -0.5), (1.75, 0.5), (2.25, 0.5))\n",
    "mast = Rectangle(0, 2, 0.125, 3)\n"
   ]
  },
  {
   "cell_type": "code",
   "execution_count": 6,
   "metadata": {},
   "outputs": [],
   "source": [
    "boat = boat >> translate(-6, -1.85)\n",
    "sails = sails >> translate(-6, -1.85)\n",
    "mast = mast >> translate(-6, -1.85)"
   ]
  },
  {
   "cell_type": "code",
   "execution_count": 7,
   "metadata": {},
   "outputs": [],
   "source": [
    "image = LayeredImage(background=\"ffffff\", scale=10)"
   ]
  },
  {
   "cell_type": "code",
   "execution_count": 8,
   "metadata": {},
   "outputs": [
    {
     "data": {
      "text/plain": [
       "<matplotlib.axes._subplots.AxesSubplot at 0x7f0ba9267940>"
      ]
     },
     "execution_count": 8,
     "metadata": {},
     "output_type": "execute_result"
    },
    {
     "data": {
      "image/png": "[encoded data removed]",
      "text/plain": [
       "<Figure size 864x864 with 1 Axes>"
      ]
     },
     "metadata": {
      "needs_background": "light"
     },
     "output_type": "display_data"
    }
   ],
   "source": [
    "image.add_layer(Sky, skyblue )\n",
    "image.add_layer(Sand, sand)\n",
    "image.add_layer(Sea, water)\n",
    "image.add_layer(sun, yellow)\n",
    "image.add_layer(cloud1, white)\n",
    "image.add_layer(cloud2, white)\n",
    "image.add_layer(cloud3, white)\n",
    "image.add_layer(cloud4, white)\n",
    "image.add_layer(sails, white)\n",
    "image.add_layer(boat, red)\n",
    "image.add_layer(mast, black)\n",
    "image.add_layer(Tardis_base, dark_blue)\n",
    "image.add_layer(Light, yellow)\n",
    "image.add_layer(Sign, black)\n",
    "image.add_layer(Tardis_Panels, D_blue)\n",
    "image.add_layer(Tardis_Panels2, D_blue)\n",
    "image.add_layer(Tardis_Panels3, D_blue)\n",
    "image.add_layer(Windows1, yellow)\n",
    "image.add_layer(Windows2, yellow)\n",
    "image.add_layer(Windows3, yellow)\n",
    "image.add_layer(Windows4, yellow)\n",
    "image.add_layer(Poster, white)\n",
    "\n"
   ]
  },
  {
   "cell_type": "code",
   "execution_count": null,
   "metadata": {},
   "outputs": [],
   "source": []
  },
  {
   "cell_type": "code",
   "execution_count": null,
   "metadata": {},
   "outputs": [],
   "source": []
  },
  {
   "cell_type": "code",
   "execution_count": null,
   "metadata": {},
   "outputs": [],
   "source": []
  }
 ],
 "metadata": {
  "kernelspec": {
   "display_name": "Python 3",
   "language": "python",
   "name": "python3"
  },
  "language_info": {
   "codemirror_mode": {
    "name": "ipython",
    "version": 3
   },
   "file_extension": ".py",
   "mimetype": "text/x-python",
   "name": "python",
   "nbconvert_exporter": "python",
   "pygments_lexer": "ipython3",
   "version": "3.7.1"
  }
 },
 "nbformat": 4,
 "nbformat_minor": 2
}
