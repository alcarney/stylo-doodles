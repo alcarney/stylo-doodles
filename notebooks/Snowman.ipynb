{
 "cells": [
  {
   "cell_type": "code",
   "execution_count": 1,
   "metadata": {},
   "outputs": [],
   "source": [
    "info = {\n",
    "    \"title\": \"Snowman\",\n",
    "    \"author\": \"Stephanie Jones\",\n",
    "    \"github_username\": \"StephanieAngharad\",\n",
    "    \"stylo_version\": \"0.6.0\",\n",
    "    \"dimensions\": (1920, 1080)\n",
    "    \n",
    "}"
   ]
  },
  {
   "cell_type": "code",
   "execution_count": 2,
   "metadata": {},
   "outputs": [],
   "source": [
    "from stylo.image import LayeredImage\n",
    "from stylo.color import FillColor\n",
    "from stylo.shape import Circle, Rectangle, Triangle\n",
    "from stylo.domain.transform import translate\n"
   ]
  },
  {
   "cell_type": "code",
   "execution_count": 3,
   "metadata": {},
   "outputs": [],
   "source": [
    "black = FillColor(\"000000\")\n",
    "seablue = FillColor(\"0000ff\")\n",
    "white = FillColor(\"ffffff\")\n",
    "yellow = FillColor(\"ffff00\")\n",
    "red = FillColor(\"dd2300\")\n",
    "orange = FillColor(\"FFA500\")"
   ]
  },
  {
   "cell_type": "code",
   "execution_count": 13,
   "metadata": {},
   "outputs": [],
   "source": [
    "Bottom = Circle(0, -2.4 , 1.5)\n",
    "Middle = Circle(0 , 0, 1)\n",
    "Top = Circle(0, 1.75, 0.75)\n",
    "Sky = Rectangle(0, 10, 10, 10)\n",
    "Hat_base = Rectangle(0, 2.3, 1.75,0.3)\n",
    "Eye1 = Circle(-0.25, 1.75, 0.15)\n",
    "Eye2 = Circle(0.25, 1.75, 0.15)\n",
    "Nose = Triangle((-0.15,1.5), (0.15,1.5) , (0,1.2))\n",
    "Button1 = Circle(0, 0.25, 0.10)\n",
    "Button2 = Circle(0, -0.25, 0.10)\n",
    "Scarf_horiz = Rectangle(0, 1, 0.9, 0.3)\n",
    "Scarf_vert = Rectangle(0.3, 0.6, 0.3, 1)\n",
    "Ribbon = Rectangle(0, 2.5, 1.3, 0.2)\n",
    "Tophat = Rectangle(0, 2.9, 1.3, 0.7)\n",
    "\n",
    "\n"
   ]
  },
  {
   "cell_type": "code",
   "execution_count": 14,
   "metadata": {},
   "outputs": [],
   "source": [
    "image = LayeredImage(background=\"99ddee\", scale=8)"
   ]
  },
  {
   "cell_type": "code",
   "execution_count": 17,
   "metadata": {},
   "outputs": [],
   "source": [
    "image.add_layer(Bottom ,white )\n",
    "image.add_layer(Middle, white)\n",
    "image.add_layer(Top, white)\n",
    "image.add_layer(Sky, black)\n",
    "image.add_layer(Eye1, black)\n",
    "image.add_layer(Eye2, black)\n",
    "image.add_layer(Nose, orange)\n",
    "image.add_layer(Button1, black)\n",
    "image.add_layer(Button2, black)\n",
    "image.add_layer(Scarf_horiz, yellow)\n",
    "image.add_layer(Scarf_vert, yellow)\n",
    "image.add_layer(Hat_base, black)\n",
    "image.add_layer(Ribbon, red)\n",
    "image.add_layer(Tophat, black)\n",
    "\n"
   ]
  },
  {
   "cell_type": "code",
   "execution_count": 18,
   "metadata": {},
   "outputs": [
    {
     "data": {
      "image/png": "[encoded data removed]",
      "text/plain": [
       "<Figure size 864x864 with 1 Axes>"
      ]
     },
     "execution_count": 18,
     "metadata": {},
     "output_type": "execute_result"
    },
    {
     "data": {
      "image/png": "[encoded data removed]",
      "text/plain": [
       "<Figure size 864x864 with 1 Axes>"
      ]
     },
     "metadata": {},
     "output_type": "display_data"
    }
   ],
   "source": [
    "image(1920, 1080)"
   ]
  },
  {
   "cell_type": "code",
   "execution_count": null,
   "metadata": {},
   "outputs": [],
   "source": []
  },
  {
   "cell_type": "code",
   "execution_count": null,
   "metadata": {},
   "outputs": [],
   "source": []
  }
 ],
 "metadata": {
  "kernelspec": {
   "display_name": "Python 3",
   "language": "python",
   "name": "python3"
  },
  "language_info": {
   "codemirror_mode": {
    "name": "ipython",
    "version": 3
   },
   "file_extension": ".py",
   "mimetype": "text/x-python",
   "name": "python",
   "nbconvert_exporter": "python",
   "pygments_lexer": "ipython3",
   "version": "3.6.5"
  }
 },
 "nbformat": 4,
 "nbformat_minor": 2
}
