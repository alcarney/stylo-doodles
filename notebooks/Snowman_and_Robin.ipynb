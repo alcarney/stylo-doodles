{
 "cells": [
  {
   "cell_type": "code",
   "execution_count": null,
   "metadata": {},
   "outputs": [],
   "source": [
    "info = {\n",
    " \"title\": \"Snowman & Robin\",\n",
    " \"author\": \"Alex Carney\",\n",
    " \"github_username\": \"alcarney\",\n",
    " \"stylo_version\": \"0.9.0\",\n",
    " \"dimensions\": (1920, 1080)\n",
    "}"
   ]
  },
  {
   "cell_type": "code",
   "execution_count": 1,
   "metadata": {},
   "outputs": [],
   "source": [
    "import numpy as np\n",
    "from math import pi\n",
    "\n",
    "from stylo.domain.transform import translate, rotate\n",
    "from stylo.color import FillColor\n",
    "from stylo.shape import Circle, Ellipse, Shape, Triangle, Line\n",
    "from stylo.image import LayeredImage"
   ]
  },
  {
   "cell_type": "code",
   "execution_count": 2,
   "metadata": {},
   "outputs": [],
   "source": [
    "white = FillColor(\"ffffff\")\n",
    "black = FillColor()\n",
    "orange = FillColor(\"ffa500\")\n",
    "lightbrown = FillColor(\"cd853f\")\n",
    "red = FillColor(\"ff0000\")"
   ]
  },
  {
   "cell_type": "code",
   "execution_count": 3,
   "metadata": {},
   "outputs": [],
   "source": [
    "class Nose(Shape):\n",
    "    \n",
    "    def __init__(self, scale=1):\n",
    "        self.scale = scale\n",
    "    \n",
    "    def draw(self):\n",
    "        \n",
    "        base = Ellipse(fill=True, r=0.1)\n",
    "        tri = Triangle((-0.2, 0), (0.2, 0), (0, 1.25))\n",
    "        \n",
    "        def nose(x, y):\n",
    "            x = x / self.scale\n",
    "            y = y / self.scale\n",
    "            \n",
    "            carrot = base(x=x, y=y)\n",
    "            carrot = np.logical_or(carrot, tri(x=x, y=y))\n",
    "            \n",
    "            return carrot\n",
    "    \n",
    "        return nose\n",
    "    \n",
    "class Robin(Shape):\n",
    "    \n",
    "    def __init__(self, scale=1):\n",
    "        self.scale = scale\n",
    "    \n",
    "    def draw(self):\n",
    "        \n",
    "        body = Circle(r=0.1, fill=True)\n",
    "        tri = Triangle((0, -0.1), (0, 0.1), (0.2, -0.05))\n",
    "        \n",
    "        def robin(x, y):\n",
    "            x = x / self.scale\n",
    "            y = y / self.scale\n",
    "            \n",
    "            bird = body(x=x, y=y)\n",
    "            bird = np.logical_or(bird, tri(x=x, y=y))\n",
    "            return bird\n",
    "            \n",
    "        return robin\n",
    "    \n",
    "class Chest(Shape):\n",
    "    \n",
    "    def __init__(self, bird):\n",
    "        self.bird = bird\n",
    "        \n",
    "    def draw(self):\n",
    "        \n",
    "        shape = Ellipse(x=-0.1, y=-0.2, a=1, b=1.5, r=0.15, fill=True)\n",
    "        \n",
    "        def chest(x, y):\n",
    "            \n",
    "            cutout = self.bird(x=x, y=y)\n",
    "            return np.logical_and(shape(x=x, y=y), cutout)\n",
    "            \n",
    "        return chest"
   ]
  },
  {
   "cell_type": "code",
   "execution_count": 4,
   "metadata": {},
   "outputs": [],
   "source": [
    "base_x = -0.4\n",
    "base_y = -0.7\n",
    "base = Circle(x=base_x, y=base_y, r=0.7, fill=True)\n",
    "base_outline = Circle(x=base_x, y=base_y, r=0.71, fill=True)\n",
    "\n",
    "mid_y = base_y + 0.8\n",
    "mid = Circle(x=base_x, y=mid_y, r=0.55, fill=True)\n",
    "mid_outline = Circle(x=base_x, y=mid_y, r=0.56, fill=True)\n",
    "\n",
    "head_y = mid_y + 0.6\n",
    "head = Circle(x=base_x, y=head_y, r=0.43, fill=True)\n",
    "head_outline = Circle(x=base_x, y=head_y, r=0.44, fill=True)\n",
    "\n",
    "eye_y = head_y + 0.1\n",
    "eye_x = base_x + 0.2\n",
    "\n",
    "leye = Ellipse(x=eye_x + 0.05, y=eye_y, r=0.03, a=1.2, b=1, fill=True)\n",
    "reye = Circle(x=(eye_x + 0.2), y=eye_y + 0.05, r=0.04, fill=True)\n",
    "\n",
    "button_y = mid_y\n",
    "button_x = base_x + 0.55\n",
    "\n",
    "button = Ellipse(x=button_x, y=button_y, a=1, b=1.6, r=0.03, fill=True)\n",
    "\n",
    "button1 = Ellipse(a=1, b=1.6, r=0.03, fill=True) \\\n",
    "       >> rotate(-pi/12) \\\n",
    "       >> translate(button_x - 0.05, button_y + 0.2)\n",
    "\n",
    "button2 = Ellipse(a=1, b=1.6, r=0.03, fill=True) \\\n",
    "       >> rotate(pi/12) \\\n",
    "       >> translate(button_x - 0.05, button_y - 0.2)  \n",
    "\n",
    "mouth_x = base_x + 0.35\n",
    "mouth_y = head_y - 0.2\n",
    "\n",
    "mouth = Ellipse(x=mouth_x, y=mouth_y, r=0.03, a=1.4, b=1, fill=True)\n",
    "mouth1 = Ellipse(x=mouth_x - 0.1, y=mouth_y, r=0.03, a=1.3, b=1, fill=True)\n",
    "mouth2 = Ellipse(x=mouth_x - 0.2, y=mouth_y + 0.04, r=0.03, a=1.2, b=1, fill=True)\n",
    "\n",
    "nose = Nose(scale=0.45) >> rotate(pi/2) >> translate(0, 0.7)\n",
    "nose_outline = Nose(scale=0.47) >> rotate(pi/2) >> translate(0, 0.7)\n",
    "\n",
    "bird = Robin() >> translate(0.45, 0.83)\n",
    "bird_outline = Robin(scale=1.05) >> translate(0.45, 0.83)\n",
    "chest = Chest(bird_outline) >> translate(0.45, 0.83)\n",
    "\n",
    "bird_eye = Circle(r=0.015, fill=True) >> translate(0.4, 0.89)\n",
    "beak = Triangle((0.02, 0), (-0.02, 0), (0, 0.04)) >> rotate(3*pi/2) >> translate(0.38, 0.88)"
   ]
  },
  {
   "cell_type": "code",
   "execution_count": 5,
   "metadata": {},
   "outputs": [
    {
     "data": {
      "text/plain": [
       "<matplotlib.axes._subplots.AxesSubplot at 0x7f3d7fdd4b38>"
      ]
     },
     "execution_count": 5,
     "metadata": {},
     "output_type": "execute_result"
    },
    {
     "data": {
      "image/png": "[encoded data removed]",
      "text/plain": [
       "<Figure size 864x864 with 1 Axes>"
      ]
     },
     "metadata": {
      "needs_background": "light"
     },
     "output_type": "display_data"
    }
   ],
   "source": [
    "image = LayeredImage(background=\"00aaff\", scale=2.3)\n",
    "\n",
    "image.add_layer(base_outline, black)\n",
    "image.add_layer(base, white)\n",
    "\n",
    "image.add_layer(mid_outline, black)\n",
    "\n",
    "image.add_layer(mid, white)\n",
    "\n",
    "image.add_layer(head_outline, black)\n",
    "image.add_layer(reye, black)\n",
    "image.add_layer(head, white)\n",
    "\n",
    "image.add_layer(leye, black)\n",
    "\n",
    "image.add_layer(button, black)\n",
    "image.add_layer(button1, black)\n",
    "image.add_layer(button2, black)\n",
    "\n",
    "image.add_layer(mouth, black)\n",
    "image.add_layer(mouth1, black)\n",
    "image.add_layer(mouth2, black)\n",
    "\n",
    "image.add_layer(nose_outline, black) \n",
    "image.add_layer(nose, orange) \n",
    "\n",
    "image.add_layer(bird_outline, black)\n",
    "image.add_layer(bird, lightbrown)\n",
    "image.add_layer(chest, red)\n",
    "image.add_layer(bird_eye, black)\n",
    "image.add_layer(beak, orange)"
   ]
  },
  {
   "cell_type": "code",
   "execution_count": null,
   "metadata": {},
   "outputs": [],
   "source": []
  },
  {
   "cell_type": "code",
   "execution_count": null,
   "metadata": {},
   "outputs": [],
   "source": []
  }
 ],
 "metadata": {
  "kernelspec": {
   "display_name": "Python 3",
   "language": "python",
   "name": "python3"
  },
  "language_info": {
   "codemirror_mode": {
    "name": "ipython",
    "version": 3
   },
   "file_extension": ".py",
   "mimetype": "text/x-python",
   "name": "python",
   "nbconvert_exporter": "python",
   "pygments_lexer": "ipython3",
   "version": "3.7.1"
  }
 },
 "nbformat": 4,
 "nbformat_minor": 2
}
