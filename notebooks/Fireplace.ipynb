{
 "cells": [
  {
   "cell_type": "code",
   "execution_count": 89,
   "metadata": {},
   "outputs": [],
   "source": [
    "info = {\n",
    " \"title\": \"Fireplace\",\n",
    " \"author\": \"Alex Carney\",\n",
    " \"github_username\": \"alcarney\",\n",
    " \"stylo_version\": \"0.9.0\",\n",
    " \"dimensions\": (1920, 1080)\n",
    "}"
   ]
  },
  {
   "cell_type": "code",
   "execution_count": 1,
   "metadata": {},
   "outputs": [],
   "source": [
    "from math import pi\n",
    "import numpy as np\n",
    "\n",
    "from stylo.domain.transform import translate\n",
    "from stylo.color import FillColor\n",
    "from stylo.shape import Rectangle, Shape, Circle\n",
    "from stylo.image import LayeredImage"
   ]
  },
  {
   "cell_type": "code",
   "execution_count": 48,
   "metadata": {},
   "outputs": [],
   "source": [
    "black = FillColor()\n",
    "red = FillColor(\"ee0000\")\n",
    "darkred = FillColor(\"660000\")\n",
    "silvery = FillColor(\"dddddd\")\n",
    "light_brown = FillColor(\"884400\")\n",
    "dark_brown = FillColor(\"663300\")"
   ]
  },
  {
   "cell_type": "code",
   "execution_count": 86,
   "metadata": {},
   "outputs": [],
   "source": [
    "class Brick(Shape):\n",
    "    \n",
    "    def __init__(self, invert=False):\n",
    "        self.invert = invert\n",
    "    \n",
    "    def draw(self):\n",
    "        \n",
    "        def brick(x, y):\n",
    "            layers = np.abs(y % 0.2) > 0.02\n",
    "            odd_layers = np.abs((y) % 0.4) > 0.2\n",
    "            \n",
    "            if self.invert:\n",
    "                odd_layers = np.logical_not(odd_layers)\n",
    "            \n",
    "            splits = np.abs(x % 0.45) > 0.02\n",
    "            split1 = np.logical_and(splits, odd_layers)\n",
    "            \n",
    "            return np.logical_and(layers, split1)\n",
    "    \n",
    "        return brick\n",
    "    \n",
    "class Arch(Shape):\n",
    "    \n",
    "    def __init__(self, scale=1, pt=0.03):\n",
    "        self.scale = scale\n",
    "        self.pt = pt\n",
    "    \n",
    "    def draw(self):\n",
    "        \n",
    "        arc = Circle(r=1, pt=self.pt)\n",
    "        pt2 = self.pt / 2\n",
    "        \n",
    "        def arch(x, y):\n",
    "            x = x / self.scale\n",
    "            y = y / self.scale\n",
    "            \n",
    "            top = np.logical_and(arc(x=x, y=y), y > 0)\n",
    "            \n",
    "            sides = np.logical_or(np.abs(x - 1) < pt2, np.abs(x + 1) < pt2)\n",
    "            sides = np.logical_and(sides, y < 0)\n",
    "            \n",
    "            return np.logical_or(top, sides)\n",
    "            \n",
    "        return arch\n",
    "    \n",
    "class Base(Shape):\n",
    "    \n",
    "    def draw(self):\n",
    "        \n",
    "        rectangle = Rectangle(x=0, y=0, width=1, height=0.3)\n",
    "        \n",
    "        def base(x, y):\n",
    "            shape = rectangle(x=x, y=y)\n",
    "            \n",
    "            cutouts = np.logical_or(np.abs(y - 0.1) < 0.02, np.abs(y + 0.1) < 0.02)\n",
    "            cutouts = np.logical_not(cutouts)\n",
    "            \n",
    "            return np.logical_and(shape, cutouts)\n",
    "            \n",
    "        return base\n",
    "    \n",
    "class Surround(Shape):\n",
    "    \n",
    "    def __init__(self, invert=False):\n",
    "        self.invert = invert\n",
    "    \n",
    "    def draw(self):\n",
    "        \n",
    "        shape = Rectangle(x=1.5, y=-0.5, width=0.5, height=2.75)\n",
    "        groove = Rectangle(x=1.5, y=-0.5, width=0.35, height=1.75)\n",
    "        circle1 = Circle(x=1.5, y=0.65, r=0.18, pt=0.01)\n",
    "        circle2 = Circle(x=1.5, y=0.65, r=0.1, pt=0.005)\n",
    "        \n",
    "        def surround(x, y):\n",
    "            \n",
    "            x = np.abs(x)\n",
    "            \n",
    "            mask = shape(x=x, y=y)\n",
    "            cutout = np.logical_or(groove(x=x, y=y), circle1(x=x, y=y))\n",
    "            cutout = np.logical_or(cutout, circle2(x=x, y=y))\n",
    "            \n",
    "            side = np.logical_and(mask, np.logical_not(cutout))\n",
    "            \n",
    "            if self.invert:\n",
    "                return np.logical_and(mask, np.logical_not(side))\n",
    "            \n",
    "            return side\n",
    "            \n",
    "        return surround\n",
    "    \n",
    "class Lintel(Shape):\n",
    "    \n",
    "    def __init__(self, invert=False):\n",
    "        self.invert = invert\n",
    "    \n",
    "    def draw(self):\n",
    "        \n",
    "        shape = Rectangle(x=0, y=0.65, width=2.75, height=0.4)\n",
    "        groove = Rectangle(x=0, y=0.65, width=2.25, height=0.3)\n",
    "        \n",
    "        def lintel(x, y):\n",
    "            mask = shape(x=x, y=y)\n",
    "            cutout = np.logical_not(groove(x=x, y=y))\n",
    "                        \n",
    "            if self.invert:\n",
    "                return np.logical_and(mask, np.logical_not(cutout))\n",
    "            \n",
    "            return np.logical_and(mask, cutout)\n",
    "            \n",
    "        return lintel"
   ]
  },
  {
   "cell_type": "code",
   "execution_count": 87,
   "metadata": {},
   "outputs": [],
   "source": [
    "arch_y = -0.65 \n",
    "\n",
    "brick = Brick()\n",
    "brick2 = Brick(invert=True) >> translate(0.2, 0)\n",
    "\n",
    "grate = Rectangle(x=0, y=-0.65, width=2.75, height=2.25)\n",
    "mantel = Rectangle(x=0, y=0.9, width=3.95, height=0.1)\n",
    "\n",
    "arch = Arch() >> translate(0, arch_y)\n",
    "arch2 = Arch(scale=0.8) >> translate(0, arch_y)\n",
    "arch3 = Arch(scale=0.9, pt=0.05) >> translate(0, arch_y)\n",
    "arch4 = Arch(scale=0.5) >> translate(0, arch_y - 0.2)\n",
    "\n",
    "base = Base() >> translate(0, arch_y - 1)\n",
    "\n",
    "surround = Surround()\n",
    "surround2 = Surround(invert=True)\n",
    "\n",
    "lintel = Lintel()\n",
    "lintel2 = Lintel(invert=True)"
   ]
  },
  {
   "cell_type": "code",
   "execution_count": 88,
   "metadata": {},
   "outputs": [
    {
     "data": {
      "text/plain": [
       "<matplotlib.axes._subplots.AxesSubplot at 0x7f8b292aa5f8>"
      ]
     },
     "execution_count": 88,
     "metadata": {},
     "output_type": "execute_result"
    },
    {
     "data": {
      "image/png": "[encoded data removed]",
      "text/plain": [
       "<Figure size 864x864 with 1 Axes>"
      ]
     },
     "metadata": {
      "needs_background": "light"
     },
     "output_type": "display_data"
    }
   ],
   "source": [
    "image = LayeredImage(background=\"666666\", scale=3.5)\n",
    "\n",
    "image.add_layer(brick, darkred)\n",
    "image.add_layer(brick2, darkred)\n",
    "\n",
    "image.add_layer(grate, black)\n",
    "\n",
    "image.add_layer(arch, silvery)\n",
    "image.add_layer(arch2, silvery)\n",
    "image.add_layer(arch3, silvery)\n",
    "image.add_layer(arch4, silvery)\n",
    "image.add_layer(base, silvery)\n",
    "\n",
    "image.add_layer(lintel, light_brown)\n",
    "image.add_layer(lintel2, dark_brown)\n",
    "\n",
    "image.add_layer(mantel, black)\n",
    "\n",
    "image.add_layer(surround, light_brown)\n",
    "image.add_layer(surround2, dark_brown)"
   ]
  },
  {
   "cell_type": "code",
   "execution_count": null,
   "metadata": {},
   "outputs": [],
   "source": []
  },
  {
   "cell_type": "code",
   "execution_count": null,
   "metadata": {},
   "outputs": [],
   "source": []
  }
 ],
 "metadata": {
  "kernelspec": {
   "display_name": "Python 3",
   "language": "python",
   "name": "python3"
  },
  "language_info": {
   "codemirror_mode": {
    "name": "ipython",
    "version": 3
   },
   "file_extension": ".py",
   "mimetype": "text/x-python",
   "name": "python",
   "nbconvert_exporter": "python",
   "pygments_lexer": "ipython3",
   "version": "3.7.1"
  }
 },
 "nbformat": 4,
 "nbformat_minor": 2
}
